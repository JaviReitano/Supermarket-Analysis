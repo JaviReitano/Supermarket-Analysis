{
 "cells": [
  {
   "cell_type": "markdown",
   "id": "ce4e5ceb-03d4-4025-8fa6-6a644af8b104",
   "metadata": {},
   "source": [
    "## ANALISIS DE VENTAS DE SUPERMERCADO - PRIMER TRIMESTRE 2019\n",
    "\n",
    "_Informe generado con Python y Jupyter Notebook_"
   ]
  },
  {
   "cell_type": "markdown",
   "id": "003bfb80-bdfd-46b0-94a7-6f686eca91b4",
   "metadata": {},
   "source": [
    "## INDICE DE CONTENIDOS\n",
    "- ANALISIS GENERALES\n",
    "- [1. TOTAL DE VENTAS DEL TRIMESTRE](#1-TOTAL-DE-VENTAS-DEL-TRIMESTRE)\n",
    "- [2. EL PROMEDIO DE VENTAS](#2-EL-PROMEDIO-DE-VENTAS)\n",
    "- [3. VENTAS MENSUALES](#3-VENTAS-MENSUALES)\n",
    "- [4. FACTURAS CON MAYOR MONTO TOTAL](#4-FACTURAS-CON-MAYOR-MONTO-TOTAL)\n",
    "- ANALISIS POR SUCURSALES\n",
    "- [5. ANALISIS DE VENTAS POR SUCURSAL](#5-ANALISIS-DE-VENTAS-POR-SUCURSAL)\n",
    "- [6. ANALISIS DE CANTIDAD DE VENTA POR SUCURSAL](#6-ANALISIS-DE-CANTIDAD-DE-VENTA-POR-SUCURSAL)\n",
    "- ANALISIS TEMPORAL\n",
    "- [7. ANALISIS DEL DIA DE LA SEMANA CON MAS VENTAS](#7-ANALISIS-DEL-DIA-DE-LA-SEMANA-CON-MAS-VENTAS)\n",
    "- [8. ANALISIS DE LA FRANJA HORARIA CON MAYOR CANTIDAD DE VENTAS](#8-ANALISIS-DE-LA-FRANJA-HORARIA-CON-MAYOR-CANTIDAD-DE-VENTAS)\n",
    "- ANALISIS POR PRODUCTO\n",
    "- [9. ANALISIS DE LOS PRODUCTOS MAS VENDIDOS](#9-ANALISIS-DE-LOS-PRODUCTOS-MAS-VENDIDOS)\n",
    "- [10. ANALISIS DE INGRESOS POR LINEAS DE PRODUCTOS](#10-ANALISIS-DE-INGRESOS-POR-LINEA-DE-PRODUCTOS)\n",
    "- [11. ANALISIS DE TICKET PROMEDIO POR PRODUCTO](#11-ANALISIS-DE-TICKET-PROMEDIO-POR-PRODUCTO)\n",
    "- ANALISIS DE CLIENTES\n",
    "- [12. GENERO QUE REALIZA MAS COMPRAS](#12-GENERO-QUE-REALIZA-MAS-COMPRAS)\n",
    "- [13. ANALISIS POR TIPO DE CLIENTES](#13-ANALISIS-POR-TIPO-DE-CLIENTES)\n",
    "- [14. ANALISIS DEL TICKET PROMEDIO POR CLIENTE](#14-ANALISIS-DEL-TICKET-PROMEDIO-POR-CLIENTE)\n",
    "- [15. METODO DE PAGO MAS UTILIZADO POR CLIENTES](#15-METODO-DE-PAGO-MAS-UTILIZADO-POR-CLIENTES)\n",
    "- [CONCLUSION FINAL](#CONCLUSIO-FINAL)"
   ]
  },
  {
   "cell_type": "code",
   "execution_count": 4,
   "id": "eea2d26b-e4c9-4b74-a7fe-055886fbd7f3",
   "metadata": {},
   "outputs": [],
   "source": [
    "import pandas as pd\n",
    "import matplotlib.pyplot as plt\n",
    "import seaborn as sns\n",
    "import warnings\n",
    "warnings.simplefilter(action='ignore', category=FutureWarning)\n"
   ]
  },
  {
   "cell_type": "code",
   "execution_count": 5,
   "id": "34b4dbb0-5ed0-4eba-918f-eb1e539b3774",
   "metadata": {},
   "outputs": [],
   "source": [
    "#-----------------------------NIVEL 1-------------------------------------------\n",
    "#-----------------------Cargar el dataset y mostrar las primeras 10 filas--------\n",
    "ruta = r\"C:\\\\Users\\\\Usuario\\\\Desktop\\\\Curso Titularizado Python\\\\Practica ChatGPT\"\n",
    "\n",
    "pdatos = pd.read_csv(ruta + \"\\\\SuperMarket Analysis.csv\", encoding=\"UTF-8\")\n",
    "\n",
    "datosMarket = pd.DataFrame(pdatos)"
   ]
  },
  {
   "cell_type": "markdown",
   "id": "6009aec5-3fb4-4438-a2f7-af438138a324",
   "metadata": {},
   "source": [
    "--------------------------------------ANALISIS GENERALES----------------------------------"
   ]
  },
  {
   "cell_type": "markdown",
   "id": "50502ffd-02f3-4f84-aa42-fb4ed7cdfa58",
   "metadata": {},
   "source": [
    "## 1) TOTAL DE VENTAS DEL TRIMESTRE\n",
    "   \n",
    "Vamos a ver cual fue el total de ventas del trimestre, asi como su rentabilidad bruta para su análisis"
   ]
  },
  {
   "cell_type": "code",
   "execution_count": 6,
   "id": "7061f64b-2d1b-428e-ad46-79c3c03cd1ab",
   "metadata": {},
   "outputs": [
    {
     "name": "stdout",
     "output_type": "stream",
     "text": [
      "El total de ingresos del trimestre fue: \n",
      "322966.749\n"
     ]
    }
   ],
   "source": [
    "#Agrupar por mes y sumar ventas\n",
    "datosMarket[\"Date\"]= pd.to_datetime(datosMarket[\"Date\"])\n",
    "datosMarket[\"Mes\"]= datosMarket[\"Date\"].dt.month\n",
    "total_ingresos= datosMarket[\"Sales\"].sum()\n",
    "print(\"El total de ingresos del trimestre fue: \")\n",
    "print(total_ingresos)"
   ]
  },
  {
   "cell_type": "code",
   "execution_count": 7,
   "id": "1a553a6a-f7e3-4053-98d8-9e6d7b0df100",
   "metadata": {},
   "outputs": [
    {
     "name": "stdout",
     "output_type": "stream",
     "text": [
      "\n",
      "Le rentabilidad bruta del trimestre: \n",
      "15379.37\n"
     ]
    }
   ],
   "source": [
    "#Rentabilidad total del trimestre\n",
    "rentabilidad_total= datosMarket[\"gross income\"].sum()\n",
    "\n",
    "print(\"\\nLe rentabilidad bruta del trimestre: \")\n",
    "print(round(rentabilidad_total, 2))\n"
   ]
  },
  {
   "cell_type": "code",
   "execution_count": 8,
   "id": "f7a10800-f456-41d4-8829-dd25b17ba22b",
   "metadata": {},
   "outputs": [
    {
     "name": "stdout",
     "output_type": "stream",
     "text": [
      "\n",
      "El porcentaje de rentabilidad bruta es de: \n",
      "0.05\n"
     ]
    }
   ],
   "source": [
    "porcentaje_rentabilidad= rentabilidad_total/total_ingresos\n",
    "\n",
    "print(\"\\nEl porcentaje de rentabilidad bruta es de: \")\n",
    "print(round(porcentaje_rentabilidad, 2))"
   ]
  },
  {
   "cell_type": "markdown",
   "id": "2a72be8f-1103-4fcb-b423-1a903a8025b4",
   "metadata": {},
   "source": [
    "**Conclusiones generales de ventas y rentabilidad**\n",
    "\n",
    "- **Ingresos totales**: El total de ventas generadas durante el trimestre fue de **USD 322,966.75**, lo que indica una operación comercial activa y con buen ritmo de facturación.\n",
    "- **Rentabilidad bruta**: La **utilidad bruta fue de USD 15,379.37**, lo cual representa aproximadamente un **4.76% de rentabilidad** sobre las ventas totales.\n",
    "- **Interpretación**: Aunque los ingresos fueron altos, la rentabilidad es relativamente ajustada, lo que sugiere márgenes bajos o altos costos operativos.\n",
    "- **Recomendación**: Sería útil analizar costos, promociones y márgenes por producto para optimizar la rentabilidad en próximos trimestres."
   ]
  },
  {
   "cell_type": "markdown",
   "id": "c40354b2-9c7c-4422-a6a7-d4a5759c793c",
   "metadata": {},
   "source": [
    "## 2) EL PROMEDIO DE VENTAS\n",
    "   \n",
    "Vamos a analizar cual es el importe promedio de ventas del trimestre"
   ]
  },
  {
   "cell_type": "code",
   "execution_count": 9,
   "id": "e58aa075-44b0-44be-aebd-148e6fb368ed",
   "metadata": {},
   "outputs": [
    {
     "name": "stdout",
     "output_type": "stream",
     "text": [
      "\n",
      "El promedio de ventas del trimestre es: \n",
      "322.97\n"
     ]
    }
   ],
   "source": [
    "#-----------------El promedio de ventas del trimestre------------------\n",
    "promedio_ventas= datosMarket[\"Sales\"].mean()\n",
    "\n",
    "print(\"\\nEl promedio de ventas del trimestre es: \")\n",
    "print(round(promedio_ventas, 2))"
   ]
  },
  {
   "cell_type": "markdown",
   "id": "c3ca1c27-8ba6-49d6-949f-3790ca96c4f5",
   "metadata": {},
   "source": [
    "**Conclusiones sobre las ventas promedio del ultimo trimestre**\n",
    "\n",
    "El **ticket promedio** por transacción durante el trimestre fue de $322.97.\n",
    "\n",
    "Este valor representa un nivel de gasto medio por cliente que puede considerarse consistente, dado el rango de productos del supermercado.\n",
    "\n",
    "Puede utilizarse como referencia base para campañas de fidelización o promociones (por ejemplo, ofrecer un beneficio si el ticket supera el promedio).\n",
    "\n",
    "Si se compara este promedio entre sucursales o tipos de clientes, se pueden detectar oportunidades de mejora en ventas o personalización de ofertas."
   ]
  },
  {
   "cell_type": "markdown",
   "id": "77ceda45-258e-49ff-a14d-d9453f61b811",
   "metadata": {},
   "source": [
    "## 3) VENTAS MENSUALES\n",
    "   \n",
    "En este gráfico de barras se representa el total de ventas por mes a lo largo del tiempo. Esta visualización permite identificar estacionalidades, tendencias de crecimiento o caída en las ventas, y facilita la comparación directa entre distintos períodos.\n",
    "\n",
    "Se utilizó `Seaborn` con el estilo `whitegrid` para una presentación limpia y profesional."
   ]
  },
  {
   "cell_type": "code",
   "execution_count": 10,
   "id": "d51215d0-a99a-492d-adca-3c2fa92aa484",
   "metadata": {},
   "outputs": [
    {
     "name": "stdout",
     "output_type": "stream",
     "text": [
      "\n",
      "Las ventas mensuales son: \n",
      "       Mes1       Sales\n",
      "0  Jan 2019  116291.868\n",
      "1  Feb 2019   97219.374\n",
      "2  Mar 2019  109455.507\n"
     ]
    },
    {
     "data": {
      "image/png": "[encoded data removed]",
      "text/plain": [
       "<Figure size 600x600 with 1 Axes>"
      ]
     },
     "metadata": {},
     "output_type": "display_data"
    }
   ],
   "source": [
    "# Asegurarse de que la columna Mes1 exista y esté en formato adecuado\n",
    "datosMarket[\"Mes1\"] = datosMarket[\"Date\"].dt.to_period(\"M\").astype(str)\n",
    "\n",
    "# Agrupar por mes y sumar las ventas\n",
    "ventas_mensuales = datosMarket.groupby(\"Mes1\")[\"Sales\"].sum().reset_index()\n",
    "\n",
    "# Ordenar cronológicamente\n",
    "ventas_mensuales[\"Mes1\"] = pd.to_datetime(ventas_mensuales[\"Mes1\"])\n",
    "ventas_mensuales = ventas_mensuales.sort_values(\"Mes1\")\n",
    "ventas_mensuales[\"Mes1\"] = ventas_mensuales[\"Mes1\"].dt.strftime(\"%b %Y\")  # Ej: 'Jan 2019'\n",
    "\n",
    "print(\"\\nLas ventas mensuales son: \")\n",
    "print(ventas_mensuales)\n",
    "\n",
    "\n",
    "# Estilo Seaborn\n",
    "sns.set_theme(style=\"whitegrid\")\n",
    "\n",
    "# Gráfico de barras\n",
    "g = sns.catplot(\n",
    "    data=ventas_mensuales,\n",
    "    kind=\"bar\",\n",
    "    x=\"Mes1\", y=\"Sales\", \n",
    "    palette=\"dark\", alpha=.7, height=6\n",
    ")\n",
    "\n",
    "# Personalización\n",
    "g.despine(left=True)\n",
    "g.set_axis_labels(\"Mes\", \"Ventas ($)\")\n",
    "g.fig.suptitle(\"Ventas Mensuales - Supermercado\", fontsize=16)\n",
    "g.set_xticklabels(rotation=45)\n",
    "plt.tight_layout()\n",
    "plt.show()"
   ]
  },
  {
   "cell_type": "markdown",
   "id": "a6b0e433-7db3-4f0b-9b17-00ffbb432edb",
   "metadata": {},
   "source": [
    "**Conclusiones de las ventas mensuales**\n",
    "\n",
    "- Las ventas más altas se dieron en enero (116K).\n",
    "- Febrero presentó una caída del 16%.\n",
    "- Marzo mostró una recuperación del 12.6% respecto a febrero.\n",
    "- Se sugiere un patrón estacional en el primer trimestre."
   ]
  },
  {
   "cell_type": "markdown",
   "id": "993d26d2-d6e1-449b-a368-dea7ccb0636f",
   "metadata": {},
   "source": [
    "## 4) FACTURAS CON MAYOR MONTO TOTAL\n",
    "\n",
    "Vamos a analizar cuales fueron las facturas con mayor monto total vendido"
   ]
  },
  {
   "cell_type": "code",
   "execution_count": 40,
   "id": "acf888e9-e484-4c31-895e-a45be3c9652a",
   "metadata": {},
   "outputs": [],
   "source": [
    "#---------------Las 10 facturas de mayor monto-----------------------\n",
    "#Agrupar facturas y sucursal, sumando las ventas\n",
    "factura_monto= datosMarket.groupby([\"Invoice ID\", \"Branch\"])[\"Sales\"].sum().reset_index()\n",
    "\n",
    "#Ordenar de mayor a menor\n",
    "factura_top10= factura_monto.sort_values(\"Sales\", ascending=False).head(10)\n",
    "\n"
   ]
  },
  {
   "cell_type": "markdown",
   "id": "19b99053-8957-452c-9331-f9c4e3ff86cb",
   "metadata": {},
   "source": [
    "**Conclusión de factura de mayor monto en el trimestre**\n",
    "\n",
    " Top 10 Facturas con Mayor Monto del Trimestre\n",
    "\n",
    "| ID de Factura  | Sucursal | Monto ($) |\n",
    "|----------------|----------|-----------|\n",
    "| 860-79-0874    | Giza     | 1042.65   |\n",
    "| 687-47-8271    | Alex     | 1039.29   |\n",
    "| 283-26-5248    | Giza     | 1034.46   |\n",
    "| 751-41-9720    | Giza     | 1023.75   |\n",
    "| 303-96-2227    | Cairo    | 1022.49   |\n",
    "| 744-16-7898    | Cairo    | 1022.39   |\n",
    "| 271-88-8734    | Giza     | 1020.71   |\n",
    "| 234-65-2137    | Giza     | 1003.59   |\n",
    "| 554-42-2417    | Giza     | 1002.12   |\n",
    "| 325-77-6186    | Alex     | 951.83    |\n",
    "\n",
    "---\n",
    "\n",
    "***Conclusiones***:\n",
    "\n",
    "- Las facturas con mayor monto oscilan entre **951 y 1042 dólares**.\n",
    "- La **sucursal Giza** aparece en **6 de las 10 facturas** principales, lo que sugiere una fuerte concentración de ventas grandes en esa ubicación.\n",
    "- **Cairo y Alex** también están representadas, pero en menor proporción.\n",
    "- Estas ventas podrían corresponder a clientes frecuentes o compras por volumen.\n",
    "- Sería valioso analizar si estas facturas están vinculadas a algún segmento de cliente específico o promoción activa."
   ]
  },
  {
   "cell_type": "markdown",
   "id": "0e4a6c30-aa18-43a3-bbe7-bc4f079cf50c",
   "metadata": {},
   "source": [
    "---------------------------ANALISIS POR SUCURSALES--------------------------------"
   ]
  },
  {
   "cell_type": "markdown",
   "id": "dbb10823-e401-465e-9c26-b07489d28eae",
   "metadata": {},
   "source": [
    "## 5) ANALISIS DE VENTAS POR SUCURSALES \n",
    "\n",
    "Nos centramos en comparar las ventas totales por sucursal y realizamos un grafico el cual nos muestra los distintos niveles de las ventas"
   ]
  },
  {
   "cell_type": "code",
   "execution_count": 16,
   "id": "8b12c98c-108f-4ebf-8929-32f56732fa59",
   "metadata": {},
   "outputs": [
    {
     "name": "stdout",
     "output_type": "stream",
     "text": [
      "\n",
      "Total de ventas del trimestre por sucursal es: \n",
      "  Branch      Sales\n",
      "2   Giza  110568.71\n",
      "1  Cairo  106197.67\n",
      "0   Alex  106200.37\n"
     ]
    },
    {
     "data": {
      "image/png": "[encoded data removed]",
      "text/plain": [
       "<Figure size 600x600 with 1 Axes>"
      ]
     },
     "metadata": {},
     "output_type": "display_data"
    }
   ],
   "source": [
    "#------------------Que sucursal genero mas ingresos-------------------------------\n",
    "ingresos_por_sucursales= datosMarket.groupby(\"Branch\")[\"Sales\"].sum().reset_index().sort_index(ascending=False)\n",
    "\n",
    "#Mostrar resultado\n",
    "print(\"\\nTotal de ventas del trimestre por sucursal es: \")\n",
    "print(round(ingresos_por_sucursales, 2))\n",
    "\n",
    "# Estilo Seaborn\n",
    "sns.set_theme(style=\"whitegrid\")\n",
    "\n",
    "# Gráfico de barras\n",
    "g = sns.catplot(\n",
    "    data=ingresos_por_sucursales,\n",
    "    kind=\"bar\",\n",
    "    x=\"Branch\", y=\"Sales\", \n",
    "    palette=\"dark\", alpha=.7, height=6\n",
    ")\n",
    "\n",
    "# Personalización\n",
    "g.despine(left=True)\n",
    "g.set_axis_labels(\"Sucursal\", \"Ventas ($)\")\n",
    "g.fig.suptitle(\"Ventas por Sucursal - Supermercado\", fontsize=16)\n",
    "g.set_xticklabels(rotation=45)\n",
    "plt.tight_layout()\n",
    "plt.show()"
   ]
  },
  {
   "cell_type": "markdown",
   "id": "44f1dcd3-558e-4fdb-9314-0991e4628b43",
   "metadata": {},
   "source": [
    "## 6) ANALISIS DE CANTIDAD DE VENTAS POR SUCURSAL\n",
    "\n",
    " Es importante ver la cantidad de ventas realizadas en cada sucursal y su correlación con los montos de ventas\n",
    " "
   ]
  },
  {
   "cell_type": "code",
   "execution_count": 14,
   "id": "97429955-5db5-4ec0-a9dd-cf38ad225493",
   "metadata": {},
   "outputs": [
    {
     "name": "stdout",
     "output_type": "stream",
     "text": [
      "Cantidad de ventas por sucursal:\n",
      "Branch\n",
      "Alex     340\n",
      "Cairo    332\n",
      "Giza     328\n",
      "Name: Invoice ID, dtype: int64\n"
     ]
    }
   ],
   "source": [
    "#--------------Cantidad de ventas por sucursal-------------------------\n",
    "#Agrupar cantidad de facturas por sucursal\n",
    "cantidad_ventas= datosMarket.groupby(\"Branch\")[\"Invoice ID\"].nunique()\n",
    "\n",
    "#Ordenar los resultados\n",
    "numero_ventas_sucursal= cantidad_ventas.sort_values(ascending=False)\n",
    "\n",
    "# Mostrar en consola\n",
    "print(\"Cantidad de ventas por sucursal:\")\n",
    "print(numero_ventas_sucursal)"
   ]
  },
  {
   "cell_type": "markdown",
   "id": "2cb04d99-891d-4776-8258-8eb62856c967",
   "metadata": {},
   "source": [
    "***Conclusión sobre la cantidad de ventas y facturación por sucursal***\n",
    "\n",
    "La sucursal **Alex** fue la que realizó más ventas (340) durante el trimestre, lo que refleja un alto nivel de actividad comercial.\n",
    "\n",
    "Sin embargo, la sucursal **Giza**, a pesar de haber tenido la menor cantidad de ventas (328), fue la que generó mayores ingresos ($110,568.71).\n",
    "\n",
    "Esto indica que el valor promedio por venta en **Giza** fue mayor, lo cual puede deberse a precios más altos, productos de mayor valor o estrategias de venta más efectivas.\n",
    "\n",
    "La sucursal **Cairo** se mantuvo equilibrada en cantidad de ventas (332) y volumen de ingresos ($106,197.67), sin destacarse especialmente en ninguna de las dos métricas.\n",
    "\n",
    "**Interpretación**: No solo es importante analizar la cantidad de ventas, sino también su valor. Giza demuestra que un menor volumen de ventas no necesariamente implica menores ingresos, lo que podría ser clave para decisiones estratégicas futuras."
   ]
  },
  {
   "cell_type": "markdown",
   "id": "cfbea5e2-172a-467e-9f5d-78fc13dd1529",
   "metadata": {},
   "source": [
    "------------------------------ANALISIS TEMPORAL-----------------------------------------"
   ]
  },
  {
   "cell_type": "markdown",
   "id": "1e8eceae-6e86-4dc4-8201-65acf27f9440",
   "metadata": {},
   "source": [
    "## 7) ANALISIS DEL DIA DE LA SEMANA CON MAS VENTAS\n",
    "   \n",
    "El análisis y gráfico incluye el día de la semana con mayor volúmen de venta por sucursal \n",
    "   "
   ]
  },
  {
   "cell_type": "code",
   "execution_count": 37,
   "id": "0761f4f4-d465-4284-981e-ee0aca1b01ef",
   "metadata": {},
   "outputs": [
    {
     "data": {
      "image/png": "[encoded data removed]",
      "text/plain": [
       "<Figure size 800x600 with 1 Axes>"
      ]
     },
     "metadata": {},
     "output_type": "display_data"
    }
   ],
   "source": [
    "#------------------------Que dia de la semana se vende mas--------------------------\n",
    "datosMarket[\"Dia\"] = datosMarket[\"Date\"].dt.day_name()\n",
    "\n",
    "# Agrupar por sucursal y día, sumar ventas\n",
    "ventas_por_dia_sucursal = datosMarket.groupby([\"Branch\", \"Dia\"])[\"Sales\"].sum().reset_index()\n",
    "\n",
    "# Obtener el día de mayor venta por sucursal\n",
    "maximos_dia_sucursal = ventas_por_dia_sucursal.sort_values(\"Sales\", ascending=False).groupby(\"Branch\").first().reset_index()\n",
    "\n",
    "# Estilo Seaborn\n",
    "sns.set_theme(style=\"whitegrid\")\n",
    "\n",
    "# Gráfico\n",
    "plt.figure(figsize=(8,6))\n",
    "ax = sns.barplot(data=maximos_dia_sucursal, x=\"Branch\", y=\"Sales\", hue=\"Dia\", palette=\"viridis\")\n",
    "\n",
    "# Personalización\n",
    "plt.title(\"Día de mayor venta por Sucursal\", fontsize=14)\n",
    "plt.xlabel(\"Sucursal\")\n",
    "plt.ylabel(\"Ventas ($)\")\n",
    "plt.legend(title=\"Día\")\n",
    "plt.tight_layout()\n",
    "plt.show()"
   ]
  },
  {
   "cell_type": "markdown",
   "id": "102d2ec4-f4dc-4d1c-9651-53a77d837009",
   "metadata": {},
   "source": [
    "\n",
    "***Conclusión de los día de mayor venta por sucursal***\n",
    "\n",
    "- **Alex** alcanzó su mayor volumen de ventas el día **domingo**, con un total de **17,006.82** en ingresos.\n",
    "- **Cairo** también tuvo su pico de ventas el **sábado**, con **21,284.42** generados.\n",
    "- **Giza** registró su mayor ingreso el **sábado**, alcanzando **18,070.97**.\n",
    "\n",
    "*Conclusión:* Si bien en *Alex* se presenta el día domingo com de mayor ventas, vemos consistentemente que el día sábado  mayor facturación en las otras sucursales, lo que sugiere un patrón de mayor afluencia de clientes o promociones activas durante los fines de semana. Esta información es valiosa para la planificación de personal, stock y campañas comerciales."
   ]
  },
  {
   "cell_type": "markdown",
   "id": "24daffaa-4f63-4e54-bf05-fbe217045db4",
   "metadata": {},
   "source": [
    "## 8) ANALISIS DE FRANJA HORARIA CON MAYOR CANTIDAD DE VENTAS\n",
    "\n",
    "Se realiza un analisis de las franja horarias con mayor cantidad de ventas"
   ]
  },
  {
   "cell_type": "code",
   "execution_count": 39,
   "id": "524e0d8a-9693-49c6-a8ab-427055f19a59",
   "metadata": {},
   "outputs": [
    {
     "name": "stdout",
     "output_type": "stream",
     "text": [
      "\n",
      "Los horarios de mas ventas son: \n",
      "Hora\n",
      "19    39699.51\n",
      "13    34723.23\n",
      "10    31421.48\n",
      "Name: Sales, dtype: float64\n"
     ]
    }
   ],
   "source": [
    "#-----------------------En que horario se vende mas----------------------------------\n",
    "#Convertir columna en data time\n",
    "datosMarket[\"Time\"]= pd.to_datetime(datosMarket[\"Time\"], format=\"%I:%M:%S %p\")\n",
    "\n",
    "#Crear una columna con la hora\n",
    "datosMarket[\"Hora\"]= datosMarket[\"Time\"].dt.hour\n",
    "\n",
    "#Agrupar y sumar los ingresos por rango horario de 1 hora\n",
    "ventas_por_hora= datosMarket.groupby (\"Hora\")[\"Sales\"].sum()\n",
    "\n",
    "#Ordenar \n",
    "hora_mas_vendida= ventas_por_hora.sort_values(ascending=False)\n",
    "\n",
    "#Mostrar resultado\n",
    "print(\"\\nLos horarios de mas ventas son: \")\n",
    "print(round(hora_mas_vendida,2).head(3))\n",
    "\n"
   ]
  },
  {
   "cell_type": "markdown",
   "id": "dffc0978-6e55-4326-a62c-d2fa396964a4",
   "metadata": {},
   "source": [
    "***Conclusiones horarios de mayor volumen de ventas***\n",
    "\n",
    "- El horario con mayor facturación fue las **19:00 horas**, con un total de **$39,699.51**.\n",
    "- Le siguen las **13:00 horas** con **$34,723.23**, y las **10:00 horas** con **$31,421.48**.\n",
    "- Esto sugiere que los picos de ventas se dan principalmente en horarios de mediodía y tarde, lo cual puede coincidir con salidas laborales, horarios de comida o compras después del trabajo."
   ]
  },
  {
   "cell_type": "markdown",
   "id": "b83628e3-b86f-4224-8762-bdaac1c79141",
   "metadata": {},
   "source": [
    "-----------------------------ANALISIS POR PRODUCTOS---------------------------------------"
   ]
  },
  {
   "cell_type": "markdown",
   "id": "2841fd51-f462-489a-b66e-e96c510bedc4",
   "metadata": {},
   "source": [
    "## 9) ANALISIS DE LOS PRODUCTOS MAS VENDIDOS\n",
    "\n",
    "Vamos a ordenar y fistrar los productos con mas demandas para su análisis"
   ]
  },
  {
   "cell_type": "code",
   "execution_count": 38,
   "id": "854a80c1-03e7-4699-b0f6-c16286f0a42b",
   "metadata": {},
   "outputs": [
    {
     "name": "stdout",
     "output_type": "stream",
     "text": [
      "\n",
      "Los productos mas vendidos son: \n",
      "Product line\n",
      "Electronic accessories    971\n",
      "Food and beverages        952\n",
      "Sports and travel         920\n",
      "Home and lifestyle        911\n",
      "Fashion accessories       902\n",
      "Name: Quantity, dtype: int64\n"
     ]
    }
   ],
   "source": [
    "#Ordenar productos mas vendidos\n",
    "productos_mas_vendidos= datosMarket.groupby(\"Product line\")[\"Quantity\"].sum().sort_values(ascending=False)\n",
    "\n",
    "#Mostrar resultado\n",
    "print(\"\\nLos productos mas vendidos son: \")\n",
    "print(productos_mas_vendidos.head(5))"
   ]
  },
  {
   "cell_type": "markdown",
   "id": "47c2d250-b1e3-4f1d-bf1f-f73a5a5c725b",
   "metadata": {},
   "source": [
    "***Conclusión de los productos más vendidos***\n",
    "\n",
    "- Los productos más vendidos del trimestre fueron los de la línea **Electronic accessories**, con un total de **971 unidades vendidas**.\n",
    "- Le siguen **Food and beverages** con **952 unidades**, y **Sports and travel** con **920 unidades**.\n",
    "- Esto indica una fuerte demanda por productos tecnológicos y de consumo diario, lo cual podría reflejar tanto hábitos de compra frecuentes como promociones atractivas en estas categorías."
   ]
  },
  {
   "cell_type": "markdown",
   "id": "516217a8-6be5-4eb8-8cee-4e5410e2e81b",
   "metadata": {},
   "source": [
    "## 10) ANLISIS DE INGRESOS POR LINEA DE PRODUCTOS\n",
    "\n",
    "Vemos cuales son las líneas de productos que generaron mayor ingreso por ventas."
   ]
  },
  {
   "cell_type": "code",
   "execution_count": 46,
   "id": "66dd2cf2-5350-4298-ad11-b56bea664443",
   "metadata": {},
   "outputs": [
    {
     "name": "stdout",
     "output_type": "stream",
     "text": [
      "\n",
      "Las lineas de productos que mas ingreso genero: \n",
      "Product line\n",
      "Food and beverages        2673.56\n",
      "Sports and travel         2624.90\n",
      "Electronic accessories    2587.50\n",
      "Fashion accessories       2586.00\n",
      "Home and lifestyle        2564.85\n",
      "Name: gross income, dtype: float64\n"
     ]
    },
    {
     "data": {
      "image/png": "[encoded data removed]",
      "text/plain": [
       "<Figure size 1000x600 with 1 Axes>"
      ]
     },
     "metadata": {},
     "output_type": "display_data"
    }
   ],
   "source": [
    "#------------------Que linea de producto genero mas ingresos------------------------\n",
    "ingreso_por_linea_producto= datosMarket.groupby(\"Product line\")[\"gross income\"].sum().sort_values(ascending=False)\n",
    "\n",
    "#Mostrar resultado\n",
    "print(\"\\nLas lineas de productos que mas ingreso genero: \")\n",
    "print(round(ingreso_por_linea_producto, 2).head(5))\n",
    "\n",
    "# Reset index para graficar \n",
    "top_ingresos = ingreso_por_linea_producto.head(5).reset_index()\n",
    "\n",
    "# Estilo Seaborn\n",
    "sns.set_theme(style=\"whitegrid\")\n",
    "\n",
    "# Gráfico de barras horizontal\n",
    "plt.figure(figsize=(10, 6))\n",
    "sns.barplot(\n",
    "    data=top_ingresos,\n",
    "    y=\"Product line\", x=\"gross income\",\n",
    "    palette=\"Blues_d\"\n",
    ")\n",
    "plt.title(\"Top 5 Líneas de Producto por Ingresos\", fontsize=16)\n",
    "plt.xlabel(\"Ingresos brutos\")\n",
    "plt.ylabel(\"Línea de producto\")\n",
    "plt.tight_layout()\n",
    "plt.show()\n"
   ]
  },
  {
   "cell_type": "markdown",
   "id": "21ae7ca1-edf6-4d7d-8e38-9f59b15701da",
   "metadata": {},
   "source": [
    "***Conclusión de líneas de producto que generaron más ingresos***\n",
    "\n",
    "- La línea **Food and beverages** fue la que generó mayores ingresos brutos durante el trimestre, con un total de **$2,673.56**.\n",
    "- Le siguen **Sports and travel** con **$2,624.90** y **Electronic accessories** con **$2,587.50**.\n",
    "- Este comportamiento indica que los productos alimenticios y de viaje no solo se venden en gran volumen, sino que también aportan un margen relevante al ingreso total.\n",
    "- Esta información puede ser útil para definir estrategias de stock y promociones en las categorías más rentables.\n"
   ]
  },
  {
   "cell_type": "markdown",
   "id": "4a37ef20-b3aa-4d0b-a3d3-2e1d1c2be8e5",
   "metadata": {},
   "source": [
    "## 11) ANALISIS DE TICKET PROMEDIO POR PRODUCTO\n",
    "    "
   ]
  },
  {
   "cell_type": "code",
   "execution_count": 50,
   "id": "38703366-8158-4311-bdec-311ff9ae2b9b",
   "metadata": {},
   "outputs": [
    {
     "name": "stdout",
     "output_type": "stream",
     "text": [
      "\n",
      "Ticket promedio por producto: \n",
      "Product line\n",
      "Food and beverages        2673.56\n",
      "Sports and travel         2624.90\n",
      "Electronic accessories    2587.50\n",
      "Fashion accessories       2586.00\n",
      "Home and lifestyle        2564.85\n",
      "Health and beauty         2342.56\n",
      "Name: gross income, dtype: float64\n"
     ]
    }
   ],
   "source": [
    "#------------------Cual es el ticket promedio por producto--------------------------\n",
    "ticket_prom_prod = datosMarket.groupby(\"Product line\")[\"Sales\"].mean().sort_index(ascending=False)\n",
    "\n",
    "#Mostrar resultado\n",
    "print(\"\\nTicket promedio por producto: \")\n",
    "print(round(ingreso_por_linea_producto,2))\n"
   ]
  },
  {
   "cell_type": "markdown",
   "id": "79a0cc53-4f65-4d34-918c-76e703d44eda",
   "metadata": {},
   "source": [
    "***Conclusión ticket promedio por producto***\n",
    "\n",
    "- El ticket promedio representa el valor medio de ventas por producto en cada línea.\n",
    "- Las líneas con mayor ticket promedio fueron:\n",
    "\n",
    "  - **Home and lifestyle**\n",
    "  - **Health and beauty**\n",
    "  - **Fashion accessories**\n",
    "\n",
    "- Esto indica que, aunque algunas líneas no lideren en cantidad de productos vendidos, generan ventas de mayor valor por unidad, lo que puede influir fuertemente en la rentabilidad.\n",
    "- Esto ayuda a identificar productos premium o con mayor margen, ideales para campañas de ventas específicas."
   ]
  },
  {
   "cell_type": "markdown",
   "id": "b17c10ff-9160-4a90-9fe8-86a64c6dea39",
   "metadata": {},
   "source": [
    "----------------------------------ANALISIS DE CLIENTES-----------------------------------------"
   ]
  },
  {
   "cell_type": "markdown",
   "id": "f6f1c798-a2f6-40b6-86f0-62f49afd6ed1",
   "metadata": {},
   "source": [
    "## 12) GENERO QUE REALIZA MAS COMPRAS"
   ]
  },
  {
   "cell_type": "code",
   "execution_count": 67,
   "id": "ebcf5784-8ad4-43d4-adcf-27b031866a96",
   "metadata": {},
   "outputs": [
    {
     "name": "stdout",
     "output_type": "stream",
     "text": [
      "\n",
      "El genero que más compras realizó: \n",
      "Gender\n",
      "Female    194671.84\n",
      "Male      128294.91\n",
      "Name: Sales, dtype: float64\n"
     ]
    }
   ],
   "source": [
    "#----------------------Que genero se compra mas---------------------------------\n",
    "ventas_por_genero= datosMarket.groupby(\"Gender\")[\"Sales\"].sum().sort_values(ascending=False)\n",
    "\n",
    "#Mostrar resultado\n",
    "print(\"\\nEl genero que más compras realizó: \")\n",
    "print(round(ventas_por_genero, 2))"
   ]
  },
  {
   "cell_type": "markdown",
   "id": "04fbe350-e272-47f4-8d02-3cb1b097ba02",
   "metadata": {},
   "source": [
    "***Análisis de ventas por género***\n",
    "\n",
    "- Las **ventas totales realizadas por mujeres** alcanzaron los **$194,671.84**, mientras que las **ventas realizadas por hombres** fueron de **$128,294.91**.\n",
    "\n",
    "- Esto representa una **diferencia del 51.7% a favor del público femenino**\n",
    "\n",
    "- Esta brecha significativa sugiere que las mujeres no solo compran más frecuentemente, sino que también podrían estar adquiriendo productos de mayor valor o en mayores cantidades.\n",
    "\n",
    "- Esta información es clave para estrategias de marketing: enfocar promociones, productos destacados o campañas en el segmento femenino podría potenciar aún más las ventas."
   ]
  },
  {
   "cell_type": "markdown",
   "id": "efadbe98-c189-453c-abe4-7e03697c3b46",
   "metadata": {},
   "source": [
    "## 13) ANALISIS POR TIPOS DE CLIENTES"
   ]
  },
  {
   "cell_type": "code",
   "execution_count": 64,
   "id": "c0aaecf1-0f1a-43c5-8b9f-400b13621062",
   "metadata": {},
   "outputs": [
    {
     "name": "stdout",
     "output_type": "stream",
     "text": [
      "\n",
      "Tipo de clientes según las ventas: \n",
      "Customer type\n",
      "Member    189694.76\n",
      "Normal    133271.98\n",
      "Name: Sales, dtype: float64\n"
     ]
    }
   ],
   "source": [
    "#--------------------Que tipo de cliente gasta mas---------------------------\n",
    "ventas_Xtipo_cliente= datosMarket.groupby(\"Customer type\")[\"Sales\"].sum().sort_values(ascending=False)\n",
    "\n",
    "#Mostrar resultado\n",
    "print(\"\\nTipo de clientes según las ventas: \")\n",
    "print(round(ventas_Xtipo_cliente, 2))"
   ]
  },
  {
   "cell_type": "markdown",
   "id": "f15c8b64-1711-46fa-8d08-90206f3bce80",
   "metadata": {},
   "source": [
    "***Conclusión de tipos de cliente según las ventas***\n",
    "\n",
    "- Los **clientes miembros** generaron ingresos por **$189,694.76**, superando ampliamente a los **clientes normales** que representaron **$133,271.98**.\n",
    "  \n",
    "- Esto sugiere que el programa de membresía es efectivo y que podría incentivarse aún más para fidelizar a los compradores."
   ]
  },
  {
   "cell_type": "markdown",
   "id": "8bcedaa0-ae01-4481-a17b-d3b804736e46",
   "metadata": {},
   "source": [
    "## 14) ANALISIS DEL TICKET PROMEDIO POR CLIENTE"
   ]
  },
  {
   "cell_type": "code",
   "execution_count": 56,
   "id": "204eacf7-c87f-4a2c-9a6d-fcc80198f361",
   "metadata": {},
   "outputs": [
    {
     "name": "stdout",
     "output_type": "stream",
     "text": [
      "\n",
      "Promedio de gasto por tipo de cliente: \n",
      "Customer type\n",
      "Member    335.742945\n",
      "Normal    306.372379\n",
      "Name: Sales, dtype: float64\n"
     ]
    }
   ],
   "source": [
    "#---------------------Ticket promedio por tipo de cliente----------------------\n",
    "promedio_Xtipo_cliente= datosMarket.groupby(\"Customer type\")[\"Sales\"].mean()\n",
    "\n",
    "#Mostrar resultado\n",
    "print(\"\\nPromedio de gasto por tipo de cliente: \")\n",
    "print(promedio_Xtipo_cliente)"
   ]
  },
  {
   "cell_type": "markdown",
   "id": "678287df-7503-4b0f-ac23-3bbaf416884c",
   "metadata": {},
   "source": [
    "***Promedio de gasto por tipo de cliente***\n",
    "\n",
    "- El gasto promedio de un **cliente miembro** es de aproximadamente **$335.74**, mientras que el de un **cliente normal** es **$306.37**.\n",
    "  \n",
    "- Los miembros no solo compran más, sino que también gastan más por transacción, lo que refuerza la importancia de mantener e incentivar la membresía.\n"
   ]
  },
  {
   "cell_type": "markdown",
   "id": "22a39b62-b97f-4655-8d0f-937d09f126bb",
   "metadata": {},
   "source": [
    "## 15) METODO DE PAGO MAS UTILIZADOS POR LOS CLIENTES"
   ]
  },
  {
   "cell_type": "code",
   "execution_count": 69,
   "id": "76e267a5-cce3-4353-a9af-b19a21d3c369",
   "metadata": {},
   "outputs": [
    {
     "name": "stdout",
     "output_type": "stream",
     "text": [
      "\n",
      "Metodo de pago mas utilizados: \n",
      "Payment\n",
      "Ewallet        345\n",
      "Cash           344\n",
      "Credit card    311\n",
      "Name: count, dtype: int64\n"
     ]
    },
    {
     "data": {
      "image/png": "[encoded data removed]",
      "text/plain": [
       "<Figure size 800x500 with 1 Axes>"
      ]
     },
     "metadata": {},
     "output_type": "display_data"
    }
   ],
   "source": [
    "#-----------------------Metodo de pagos mas utilizado--------------------------------\n",
    "metodo_pago_mas_usado= datosMarket[\"Payment\"].value_counts()\n",
    "\n",
    "#Mostrar resultado\n",
    "print(\"\\nMetodo de pago mas utilizados: \")\n",
    "print(metodo_pago_mas_usado.head(3))\n",
    "\n",
    "# Estilo Seaborn\n",
    "sns.set_theme(style=\"whitegrid\")\n",
    "\n",
    "# Gráfico\n",
    "plt.figure(figsize=(8, 5))\n",
    "sns.barplot(\n",
    "    x=metodo_pago_mas_usado.index,\n",
    "    y=metodo_pago_mas_usado.values,\n",
    "    palette=\"dark\"\n",
    ")\n",
    "\n",
    "plt.title(\"Métodos de Pago Más Utilizados\", fontsize=16)\n",
    "plt.xlabel(\"Método de Pago\")\n",
    "plt.ylabel(\"Cantidad de Transacciones\")\n",
    "plt.tight_layout()\n",
    "plt.show()"
   ]
  },
  {
   "cell_type": "markdown",
   "id": "bd298827-90b4-43d4-8d09-0ec612131280",
   "metadata": {},
   "source": [
    "***Metodo de pago mas utilizado***\n",
    "\n",
    "- El método de pago más frecuente fue **Ewallet (345 transacciones)**, seguido muy de cerca por **efectivo (344)** y **tarjeta de crédito (311)**.\n",
    "  \n",
    "- La alta adopción de billeteras electrónicas destaca la necesidad de seguir fortaleciendo las opciones de pago digitales."
   ]
  },
  {
   "cell_type": "markdown",
   "id": "893f1687-22a4-4d94-bf4b-2ab08032c634",
   "metadata": {},
   "source": [
    "## 🟩 CONCLUSION FINAL DEL ANALISIS\n",
    "\n",
    "🔹 El supermercado ha mantenido una operación activa en el trimestre con más de USD 322,000 en ingresos totales, aunque con un margen bruto de rentabilidad algo ajustado (~4.76%).\n",
    "\n",
    "🔹 Las líneas de producto más vendidas fueron **Electronic accessories** y **Food and beverages**, destacándose tanto en volumen como en ingresos.\n",
    "\n",
    "🔹 La sucursal **Giza** lidera en facturación a pesar de tener menor cantidad de ventas, lo que sugiere tickets más altos o mayor valor por transacción.\n",
    "\n",
    "🔹 Las ventas se concentran principalmente los **fines de semana (sábado y domingo)** y en horarios clave como **13:00 y 19:00 hs**, información útil para reforzar personal y promociones.\n",
    "\n",
    "🔹 Las mujeres y los clientes **miembros** representaron los mayores niveles de compra, abriendo oportunidades para campañas focalizadas de fidelización y marketing.\n",
    "\n",
    "🔹 Se detecta un uso parejo de **Ewallet, Cash y Credit Card**, lo que indica flexibilidad en los métodos de pago y alta adopción digital.\n",
    "\n",
    "📌 Este análisis permite comprender el comportamiento de los clientes y la dinámica de ventas, lo que sienta una base sólida para optimizar estrategias de precios, promociones, stock y marketing."
   ]
  }
 ],
 "metadata": {
  "kernelspec": {
   "display_name": "Python 3 (ipykernel)",
   "language": "python",
   "name": "python3"
  },
  "language_info": {
   "codemirror_mode": {
    "name": "ipython",
    "version": 3
   },
   "file_extension": ".py",
   "mimetype": "text/x-python",
   "name": "python",
   "nbconvert_exporter": "python",
   "pygments_lexer": "ipython3",
   "version": "3.13.3"
  }
 },
 "nbformat": 4,
 "nbformat_minor": 5
}
